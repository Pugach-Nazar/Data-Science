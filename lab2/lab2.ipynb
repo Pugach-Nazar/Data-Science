{
 "cells": [
  {
   "cell_type": "markdown",
   "metadata": {},
   "source": [
    "# Lab2\n",
    "\n",
    "## завдання 1\n",
    "\n",
    "Імпортуйте бібліотеку NumPy.\n",
    "\n",
    "Створіть набір даних з використанням arange для лінійних значень та random для випадкових чисел.\n",
    "\n",
    "Виконайте CRUD операції (Create, Read, Update, Delete) над масивами даних.\n"
   ]
  },
  {
   "cell_type": "code",
   "execution_count": 68,
   "metadata": {},
   "outputs": [
    {
     "name": "stdout",
     "output_type": "stream",
     "text": [
      "0.6273170093376167 \n",
      "\n",
      "1.2546340186752334 \n",
      "\n",
      "<class 'numpy.ndarray'> \n",
      " [10 20 30 40 50 60 70 80 90]\n",
      "[75 26 92 66 95 56 82 41 55] \n",
      "\n",
      "[11 21 31 41 51 61 71 81 91] \n",
      " [70 21 87 61 90 51 77 36 50] \n",
      "\n",
      "[[11 21 31]\n",
      " [41 51 61]\n",
      " [71 81 91]] \n",
      "\n",
      "[[70 21 87]\n",
      " [61 90 51]\n",
      " [77 36 50]] \n",
      "\n",
      "[[ 81  42 118]\n",
      " [102 141 112]\n",
      " [148 117 141]] \n",
      "\n"
     ]
    }
   ],
   "source": [
    "import numpy as np\n",
    "\n",
    "\n",
    "#crud операції над скалярами\n",
    "a = np.random.random() #create\n",
    "print(a , \"\\n\") #read\n",
    "a += a  #update\n",
    "print(a , \"\\n\")\n",
    "del(a) #delete\n",
    "\n",
    "\n",
    "#crud операції над векторами\n",
    "arr1 = np.arange(10, 100, 10)\n",
    "np.random.seed(123)\n",
    "arr2 = np.random.randint(9, 100, 9) #create\n",
    "\n",
    "print(type(arr1), \"\\n\", arr1)\n",
    "print(arr2, \"\\n\") #read\n",
    "\n",
    "arr1 += 1\n",
    "arr2 -= 5 #update\n",
    "\n",
    "print(arr1, \"\\n\", arr2, \"\\n\")\n",
    "\n",
    "# del(arr1, arr2) #delete\n",
    "\n",
    "\n",
    "#crud операції над матрицями\n",
    "matrix1 = arr1.reshape(3,3)\n",
    "matrix2 = arr2.reshape(3,3) #create\n",
    "\n",
    "print(matrix1, \"\\n\")\n",
    "print(matrix2, \"\\n\") #read\n",
    "\n",
    "matrix1 += matrix2 \n",
    "print(matrix1, \"\\n\") #update\n",
    "\n",
    "del(matrix1, matrix2)#delete"
   ]
  },
  {
   "cell_type": "markdown",
   "metadata": {},
   "source": [
    "## Завдання 2\n",
    "Імпортуйте бібліотеку Pandas.\n",
    "\n",
    "Створіть DataFrame різними способами, зокрема з масиву NumPy та з використанням словників.\n",
    "\n",
    "Виконайте маніпуляції з даними: відображення перших рядків (head), опис статистики (describe), індексація (iloc, loc).\n"
   ]
  },
  {
   "cell_type": "code",
   "execution_count": 105,
   "metadata": {},
   "outputs": [
    {
     "name": "stdout",
     "output_type": "stream",
     "text": [
      "    Name  Age  Salary\n",
      "0    Bob   25     650\n",
      "1    Jon   22     550\n",
      "2  Steve   47     700\n",
      "3   Mike   30     600\n",
      "\n",
      "  Name  Age  Salary\n",
      "0  Bob   25     650\n",
      "1  Jon   22     550\n",
      "\n",
      "             Age      Salary\n",
      "count   4.000000    4.000000\n",
      "mean   31.000000  625.000000\n",
      "std    11.165423   64.549722\n",
      "min    22.000000  550.000000\n",
      "25%    24.250000  587.500000\n",
      "50%    27.500000  625.000000\n",
      "75%    34.250000  662.500000\n",
      "max    47.000000  700.000000\n",
      "\n",
      "0      Bob\n",
      "1      Jon\n",
      "2    Steve\n",
      "Name: Name, dtype: object\n",
      "\n",
      "Name      Steve\n",
      "Age          47\n",
      "Salary      700\n",
      "Name: 2, dtype: object\n"
     ]
    }
   ],
   "source": [
    "import numpy as np\n",
    "import pandas as pd\n",
    "\n",
    "# arr = np.array([[1,2,3],\n",
    "#                 [4,5,6],\n",
    "#                 [7,8,9]]) \n",
    "\n",
    "# df = pd.DataFrame(arr)\n",
    "# print(df)\n",
    "\n",
    "dic = {\n",
    "    'Name' : ['Bob', 'Jon', 'Steve'],\n",
    "    'Age' : [25, 22, 47],\n",
    "    'Salary' : [650, 550, 700]\n",
    "}\n",
    "\n",
    "df2 = pd.DataFrame(dic)\n",
    "# print(df2)\n",
    "\n",
    "new_row = pd.DataFrame({'Name': ['Mike'], 'Age': [30], 'Salary': [600]})\n",
    "df2 = pd.concat([df2, new_row], ignore_index=True)\n",
    "\n",
    "print(df2)\n",
    "print()\n",
    "print(df2.head(2))\n",
    "print()\n",
    "print(df2.describe())\n",
    "print()\n",
    "print(df2.loc[:2, 'Name'])\n",
    "print()\n",
    "print(df2.iloc[2])"
   ]
  },
  {
   "cell_type": "markdown",
   "metadata": {},
   "source": [
    "## Завдання 3\n",
    "Імпортуйте бібліотеку Matplotlib.\n",
    "\n",
    "Згенеруйте дані для лінійної функції, враховуючи помилки вимірювань.\n",
    "\n",
    "Побудуйте графік функції та отриманих даних.\n",
    "\n",
    "Обчисліть метрики похибок MAE та MSE.\n",
    "\n",
    "Запишіть результати у CSV файл.\n"
   ]
  },
  {
   "cell_type": "code",
   "execution_count": 128,
   "metadata": {},
   "outputs": [
    {
     "data": {
      "image/png": "[encoded data removed]",
      "text/plain": [
       "<Figure size 640x480 with 1 Axes>"
      ]
     },
     "metadata": {},
     "output_type": "display_data"
    }
   ],
   "source": [
    "import numpy as np\n",
    "import matplotlib.pyplot as plt\n",
    "\n",
    "x = [1, 2, 3, 4, 5]\n",
    "y = [1, 4, 9, 16, 25]\n",
    "\n",
    "plt.plot(x, y)\n",
    "plt.xlabel('X')\n",
    "plt.ylabel('Y')\n",
    "plt.title('Лінійна функція y=x^2')\n",
    "plt.show()\n",
    "\n",
    "y_true = np.array([4.5, 6.7, 0.2, 8.1])\n",
    "y_pred = np.array([4.9, 5.7, 1.2, 7.4])\n",
    "mae = np.mean(np.abs(y_true - y_pred))\n",
    "mse = np.mean((y_true - y_pred)**2)\n",
    "\n",
    "\n",
    "results = pd.DataFrame({\n",
    "    'Metric': ['MAE', 'MSE'],\n",
    "    'Value': [mae, mse]\n",
    "})\n",
    "results.to_csv('error_metrics.csv', index=False)\n",
    "\n",
    "\n"
   ]
  }
 ],
 "metadata": {
  "kernelspec": {
   "display_name": "Python 3",
   "language": "python",
   "name": "python3"
  },
  "language_info": {
   "codemirror_mode": {
    "name": "ipython",
    "version": 3
   },
   "file_extension": ".py",
   "mimetype": "text/x-python",
   "name": "python",
   "nbconvert_exporter": "python",
   "pygments_lexer": "ipython3",
   "version": "3.12.5"
  }
 },
 "nbformat": 4,
 "nbformat_minor": 2
}

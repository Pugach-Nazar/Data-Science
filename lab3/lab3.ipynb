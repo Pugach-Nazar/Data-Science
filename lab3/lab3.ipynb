{
 "cells": [
  {
   "cell_type": "markdown",
   "metadata": {},
   "source": [
    "# Lab3\n",
    "\n",
    "Створити набір даних за допомогою DatasetGenerator.\n",
    "\n",
    "Завантажити набір даних для класифікації з сайту Kaggle. Кожен студент має обрати унікальний набір даних.\n",
    "\n",
    "(Опціонально для отримання відмінної оцінки) Згенерувати набір даних для класифікації, використовуючи стандартні можливості Python (наприклад, з допомогою бібліотек Numpy або random).\n",
    "\n",
    "Провести моделювання для отриманих наборів даних з використанням регресійного аналізу.\n",
    "\n",
    "Викласти результати на GitHub у власний репозиторій в основну гілку в папці Lab3.\n"
   ]
  },
  {
   "cell_type": "markdown",
   "metadata": {},
   "source": [
    "дані з kaggle"
   ]
  },
  {
   "cell_type": "code",
   "execution_count": 17,
   "metadata": {},
   "outputs": [
    {
     "name": "stdout",
     "output_type": "stream",
     "text": [
      "Точність: 0.9583333333333334\n",
      "Матриця плутанини:\n",
      " [[144   7   0   0]\n",
      " [  3 142   1   0]\n",
      " [  0   7 135   6]\n",
      " [  0   0   1 154]]\n",
      "Звіт класифікації:\n",
      "               precision    recall  f1-score   support\n",
      "\n",
      "           0       0.98      0.95      0.97       151\n",
      "           1       0.91      0.97      0.94       146\n",
      "           2       0.99      0.91      0.95       148\n",
      "           3       0.96      0.99      0.98       155\n",
      "\n",
      "    accuracy                           0.96       600\n",
      "   macro avg       0.96      0.96      0.96       600\n",
      "weighted avg       0.96      0.96      0.96       600\n",
      "\n"
     ]
    }
   ],
   "source": [
    "import pandas as pd\n",
    "from sklearn.linear_model import LogisticRegression\n",
    "from sklearn.metrics import accuracy_score, confusion_matrix, classification_report\n",
    "from sklearn.model_selection import train_test_split\n",
    "from sklearn.preprocessing import StandardScaler\n",
    "\n",
    "df_train = pd.read_csv(\"train.csv\")\n",
    "\n",
    "y = df_train[\"price_range\"]\n",
    "X = df_train.drop(\"price_range\", axis=1)\n",
    "\n",
    "X_train, X_test, y_train, y_test = train_test_split(X, y, test_size=0.3, random_state=42)\n",
    "\n",
    "scaler = StandardScaler()\n",
    "X_train_scaled = scaler.fit_transform(X_train)\n",
    "X_test_scaled = scaler.transform(X_test)\n",
    "\n",
    "model_kaggle = LogisticRegression()\n",
    "model_kaggle.fit(X_train_scaled, y_train)\n",
    "\n",
    "y_pred = model_kaggle.predict(X_test_scaled)\n",
    "\n",
    "print(\"Точність:\", accuracy_score(y_test, y_pred))\n",
    "print(\"Матриця плутанини:\\n\", confusion_matrix(y_test, y_pred))\n",
    "print(\"Звіт класифікації:\\n\", classification_report(y_test, y_pred))\n"
   ]
  },
  {
   "cell_type": "markdown",
   "metadata": {},
   "source": [
    "Створити набір даних за допомогою DatasetGenerator"
   ]
  },
  {
   "cell_type": "code",
   "execution_count": 3,
   "metadata": {},
   "outputs": [
    {
     "name": "stdout",
     "output_type": "stream",
     "text": [
      "Точність: 0.8466666666666667\n",
      "Матриця плутанини:\n",
      " [[118  17]\n",
      " [ 29 136]]\n",
      "Звіт класифікації:\n",
      "               precision    recall  f1-score   support\n",
      "\n",
      "           0       0.80      0.87      0.84       135\n",
      "           1       0.89      0.82      0.86       165\n",
      "\n",
      "    accuracy                           0.85       300\n",
      "   macro avg       0.85      0.85      0.85       300\n",
      "weighted avg       0.85      0.85      0.85       300\n",
      "\n"
     ]
    }
   ],
   "source": [
    "import pandas as pd\n",
    "from sklearn.datasets import make_classification\n",
    "from sklearn.model_selection import train_test_split\n",
    "from sklearn.linear_model import LogisticRegression\n",
    "from sklearn.metrics import accuracy_score, confusion_matrix, classification_report\n",
    "\n",
    "X, y = make_classification(n_samples=1000, n_features=10, n_classes=2, random_state=42)\n",
    "\n",
    "data = pd.DataFrame(X, columns=[f'Feature_{i}' for i in range(1, 11)])\n",
    "\n",
    "\n",
    "\n",
    "X_train, X_test, y_train, y_test = train_test_split(X, y, test_size=0.3, random_state=42)\n",
    "\n",
    "\n",
    "model = LogisticRegression()\n",
    "model.fit(X_train, y_train)\n",
    "\n",
    "y_pred = model.predict(X_test)\n",
    "\n",
    "print(\"Точність:\", accuracy_score(y_test, y_pred))\n",
    "print(\"Матриця плутанини:\\n\", confusion_matrix(y_test, y_pred))\n",
    "print(\"Звіт класифікації:\\n\", classification_report(y_test, y_pred))\n"
   ]
  }
 ],
 "metadata": {
  "kernelspec": {
   "display_name": "Python 3",
   "language": "python",
   "name": "python3"
  },
  "language_info": {
   "codemirror_mode": {
    "name": "ipython",
    "version": 3
   },
   "file_extension": ".py",
   "mimetype": "text/x-python",
   "name": "python",
   "nbconvert_exporter": "python",
   "pygments_lexer": "ipython3",
   "version": "3.12.5"
  }
 },
 "nbformat": 4,
 "nbformat_minor": 2
}
